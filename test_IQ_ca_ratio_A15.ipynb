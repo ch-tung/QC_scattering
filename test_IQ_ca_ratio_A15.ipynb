{
 "cells": [
  {
   "cell_type": "code",
   "execution_count": 1,
   "id": "f179dfd9",
   "metadata": {},
   "outputs": [],
   "source": [
    "from FK import *\n",
    "import pyvoro\n",
    "import os\n",
    "import matplotlib.pyplot as plt\n",
    "from mpl_toolkits.mplot3d.art3d import Poly3DCollection\n",
    "# import numba as nb\n",
    "from tqdm import tqdm"
   ]
  },
  {
   "cell_type": "code",
   "execution_count": 2,
   "id": "7389b9e3",
   "metadata": {},
   "outputs": [],
   "source": [
    "# %matplotlib notebook"
   ]
  },
  {
   "cell_type": "code",
   "execution_count": 3,
   "id": "a49085fb",
   "metadata": {},
   "outputs": [],
   "source": [
    "def area_vertices(vertices):\n",
    "    f_cm = np.mean(vertices,axis=0)\n",
    "    vertices = vertices - f_cm\n",
    "    i_1 = np.arange(len(vertices))\n",
    "    i_2 = (i_1+1)%len(i_1)\n",
    "    A = [np.cross(vertices[i_1[j]],vertices[i_2[j]]) for j in range(len(i_1))]\n",
    "    area = np.linalg.norm(np.sum(A,axis=0)/2)\n",
    "    return area"
   ]
  },
  {
   "cell_type": "code",
   "execution_count": 4,
   "id": "b1c32c24",
   "metadata": {},
   "outputs": [],
   "source": [
    "def sphere_sample(n):\n",
    "    samples = []\n",
    "    for i in range(n):\n",
    "        v = [0, 0, 0]  # initialize so we go into the while loop\n",
    "\n",
    "        while np.linalg.norm(v) < .0001:\n",
    "            x = np.random.normal()  # random standard normal\n",
    "            y = np.random.normal()\n",
    "            z = np.random.normal()\n",
    "            v = np.array([x, y, z])\n",
    "\n",
    "        v = v/np.linalg.norm(v)  # normalize to unit norm\n",
    "        \n",
    "        samples.append(v)\n",
    "        \n",
    "    return np.array(samples)\n",
    "\n",
    "def isinside(v, vt_polygon):\n",
    "    len_vt = len(vt_polygon)\n",
    "    list_inside = [np.dot(v,np.cross(vt_polygon[i],vt_polygon[(i+1)%len_vt]))<=0\n",
    "               for i in range(len_vt)]\n",
    "    return np.all(list_inside) \n",
    "\n",
    "def elastic_energy(Faces, Vertices, Vect_sample, fraction = 0.5, elas_const = 1.0):\n",
    "    n_sample = len(Vect_sample)\n",
    "    # volume of uniformly distributed, undeformed sphere\n",
    "    radius_sphere = (1/(4/3*np.pi))**(1/3)\n",
    "    r_OS = radius_sphere\n",
    "    r_OI = r_OS*fraction\n",
    "    r_IS = r_OS-r_OI\n",
    "    \n",
    "    E = 0\n",
    "    r = 0\n",
    "    # iterate over facets\n",
    "    for i_faces, face in enumerate(Faces):\n",
    "        vt_sf_list = Vertices[face['vertices']].tolist()\n",
    "        vt_if_list = (Vertices[face['vertices']]*fraction).tolist() # interface position\n",
    "\n",
    "        v0 = np.array(vt_sf_list[0])\n",
    "        v1 = np.array(vt_sf_list[1])\n",
    "        v2 = np.array(vt_sf_list[2])\n",
    "        v0_i = np.array(vt_if_list[0])\n",
    "\n",
    "        n_sf = np.cross((v1-v0),\n",
    "                        (v1-v2))\n",
    "        n_sf = n_sf/np.linalg.norm(n_sf)\n",
    "\n",
    "        index_inside = [isinside(v,vt_sf_list) for v in Vect_sample]\n",
    "        vect_inside = Vect_sample[index_inside]\n",
    "\n",
    "        for vect in vect_inside:\n",
    "            d_OS = np.abs(np.dot(v0,n_sf)/np.dot(vect,n_sf))\n",
    "            d_OI = np.abs(np.dot(v0_i,n_sf)/np.dot(vect,n_sf))\n",
    "            d_IS = d_OS-d_OI\n",
    "\n",
    "            stretch_OI = d_OI-r_OI\n",
    "            stretch_IS = d_IS-r_IS\n",
    "\n",
    "            E += elas_const*(stretch_OI**2)/2 + elas_const*(stretch_IS**2)/2\n",
    "            r += d_OS\n",
    "\n",
    "    return E/n_sample, r/n_sample"
   ]
  },
  {
   "cell_type": "markdown",
   "id": "4528cba7",
   "metadata": {},
   "source": [
    "### Select Voronoi polyhedra and evaluate strain energy"
   ]
  },
  {
   "cell_type": "code",
   "execution_count": 5,
   "id": "463039f9",
   "metadata": {},
   "outputs": [
    {
     "name": "stderr",
     "output_type": "stream",
     "text": [
      " 95%|█████████████████████████████████████████████████████████████████████████████████████▌    | 77/81 [00:01<00:00, 60.71it/s]"
     ]
    }
   ],
   "source": [
    "n_x = 1\n",
    "n_y = 1\n",
    "n_layers = 1\n",
    "\n",
    "# Choose c/a ratio here\n",
    "# r_ca = [228/431]\n",
    "# r_ca = [1/1.9]\n",
    "# r_ca = [0.518]\n",
    "# r_ca = [1/np.sqrt((1+np.sqrt(3)/2)**2+0.5**2)]\n",
    "r_ca = np.linspace(0.4,0.6,81)\n",
    "\n",
    "IQ_arr = []\n",
    "counts_arr = []\n",
    "volume_arr = []\n",
    "\n",
    "progress = tqdm(total=len(r_ca))\n",
    "for i_r, r in enumerate(r_ca):\n",
    "    e_SQ = np.array([[np.cos(x),np.sin(x)] for x in [0,np.pi/2]])\n",
    "    e_TR = np.array([[np.cos(x),np.sin(x)] for x in [0,np.pi/3]])\n",
    "    \n",
    "    l_c = 1*np.sqrt((1+np.sqrt(3)/2)**2+0.5**2)*r\n",
    "#     print(l_c)\n",
    "    \n",
    "    # Generate a FK A15 primitive unit cell\n",
    "    c_layer_A15 = c_A15(n_x,n_y,Ratio_ca=1/r)\n",
    "    c_rod = stack_coords([shift_coords(c_layer_A15, np.array([0,0,l_c])*s) for s in range(n_layers)])\n",
    "\n",
    "    l = 1.0\n",
    "    bounds = np.array([[0,n_x*l],[0,n_y*l],[0,n_layers*l_c]])\n",
    "    points = np.vstack(c_rod)\n",
    "    \n",
    "    # Call pyvoro.compute_voronoi function to evaluate the Voronoi tessellations\n",
    "    voro = pyvoro.compute_voronoi(points,bounds,0.7,periodic=[True]*3)\n",
    "    \n",
    "    list_origin = [v['original'] for v in voro]\n",
    "    list_volume = [v['volume'] for v in voro]\n",
    "    list_volume_round = [np.round(v['volume'],decimals=9) for v in voro]\n",
    "    list_vertices = [v['vertices'] for v in voro]\n",
    "    list_adjacency = [v['adjacency'] for v in voro]\n",
    "    list_faces = [v['faces'] for v in voro]\n",
    "    list_coords = [len(v['faces']) for v in voro]\n",
    "    \n",
    "    # Pick up the unique elements from the list of Voronoi cell volume\n",
    "    unique_volume, inices, counts = np.unique(list_volume_round,return_counts=True,return_index=True)\n",
    "    unique_volume_reduced = unique_volume*np.sum(counts)/np.sum(counts*unique_volume)\n",
    "    unique_adjacency = np.array(list_coords)[inices]\n",
    "    \n",
    "    # Isoperimetric quotient (IQ)\n",
    "    unique_IQ = []\n",
    "    for i_cell in range(len(unique_volume)):\n",
    "        vertices = np.array(list_vertices[inices.tolist()[i_cell]])\n",
    "        v_cm = np.mean(vertices,axis=0)\n",
    "        vertices = vertices-v_cm\n",
    "        faces = list_faces[inices.tolist()[i_cell]]\n",
    "    \n",
    "        area_sum = 0\n",
    "        for i_faces, face in enumerate(faces):\n",
    "            vertices_face_list = vertices[face['vertices']].tolist()\n",
    "            area = area_vertices(vertices_face_list)\n",
    "            area_sum += area\n",
    "            \n",
    "        unique_IQ.append(36*np.pi*unique_volume[i_cell]**2/area_sum**3)\n",
    "        \n",
    "    IQ_arr_i = np.array(unique_IQ)\n",
    "    IQ_arr.append(IQ_arr_i)\n",
    "    counts_arr.append(counts)\n",
    "    volume_arr.append(unique_volume_reduced)\n",
    "    \n",
    "    progress.update(1)\n",
    "    \n",
    "IQ_arr = np.array(IQ_arr)\n",
    "counts_arr = np.array(counts_arr)\n",
    "volume_arr = np.array(volume_arr)\n"
   ]
  },
  {
   "cell_type": "code",
   "execution_count": 6,
   "id": "c72dc352",
   "metadata": {},
   "outputs": [],
   "source": [
    "def quadratic_fit(r,F):\n",
    "    ## quadratic fit\n",
    "    r_poly = np.c_[r**0,r**1,r**2]\n",
    "    x = (F.T@r_poly)@np.linalg.inv(r_poly.T@r_poly)\n",
    "    return x"
   ]
  },
  {
   "cell_type": "code",
   "execution_count": 8,
   "id": "35563808",
   "metadata": {},
   "outputs": [
    {
     "data": {
      "text/plain": [
       "Text(0, 0.5, '$IQ$')"
      ]
     },
     "execution_count": 8,
     "metadata": {},
     "output_type": "execute_result"
    },
    {
     "data": {
      "image/png": "[encoded data removed]",
      "text/plain": [
       "<Figure size 640x480 with 1 Axes>"
      ]
     },
     "metadata": {},
     "output_type": "display_data"
    },
    {
     "name": "stderr",
     "output_type": "stream",
     "text": [
      "\r",
      "100%|██████████████████████████████████████████████████████████████████████████████████████████| 81/81 [00:20<00:00, 60.71it/s]"
     ]
    }
   ],
   "source": [
    "r_ca = np.linspace(0.4,0.6,81)\n",
    "\n",
    "fig = plt.figure()\n",
    "ax = fig.add_subplot(1,1,1)\n",
    "colors = ['C0','C1','C2','C3','C4']\n",
    "\n",
    "## switch\n",
    "IQ_new = IQ_arr.copy()\n",
    "IQ_new[r_ca>0.525,1] = IQ_arr[r_ca>0.525,2]\n",
    "IQ_new[r_ca>0.525,2] = IQ_arr[r_ca>0.525,1]\n",
    "\n",
    "for i_cell in range(len(unique_volume)):\n",
    "    IQ_arr_i = IQ_new[:,i_cell]\n",
    "    x_fit = quadratic_fit(r_ca,IQ_arr_i)\n",
    "    IQ_arr_fit = x_fit[0] + x_fit[1]*r_ca + x_fit[2]*r_ca**2\n",
    "\n",
    "#     ax.plot(r_ca,IQ_arr_i,'.',color=colors[i_cell])\n",
    "    ax.plot(r_ca,IQ_arr_fit,'-',color=colors[i_cell])\n",
    "\n",
    "#     ax.plot(r_ca[index_max],IQ_arr_i[index_max],'o',color=colors[i_cell])\n",
    "\n",
    "    \n",
    "IQ_arr_ave = np.sum(IQ_arr*counts_arr*volume_arr,axis=1)/np.sum(counts_arr*volume_arr,axis=1)\n",
    "index_IQ_max_ave = IQ_arr_ave==np.max(IQ_arr_ave)\n",
    "x_fit = quadratic_fit(r_ca,IQ_arr_ave)\n",
    "E_arr_fit = x_fit[0] + x_fit[1]*r_ca + x_fit[2]*r_ca**2\n",
    "r_min_ave = -x_fit[1]/2/x_fit[2]\n",
    "E_min_ave = x_fit[0] + x_fit[1]*r_min_ave + x_fit[2]*r_min_ave**2\n",
    "\n",
    "# ax.plot(r_ca,IQ_arr_ave,'--k')\n",
    "ax.plot(r_ca,E_arr_fit,'--k')\n",
    "ax.plot(r_min_ave,E_min_ave,'ok')\n",
    "str_coord = '({:0.3f},{:0.3f})'.format(r_min_ave,E_min_ave)\n",
    "ax.text(r_min_ave-0.01,E_min_ave-0.01,\n",
    "        s=str_coord)\n",
    "ax.set_xlabel('c/a ratio')\n",
    "ax.set_ylabel(r'$IQ$')"
   ]
  },
  {
   "cell_type": "code",
   "execution_count": null,
   "id": "c2d1e55e",
   "metadata": {},
   "outputs": [],
   "source": []
  }
 ],
 "metadata": {
  "kernelspec": {
   "display_name": "Python 3 (ipykernel)",
   "language": "python",
   "name": "python3"
  },
  "language_info": {
   "codemirror_mode": {
    "name": "ipython",
    "version": 3
   },
   "file_extension": ".py",
   "mimetype": "text/x-python",
   "name": "python",
   "nbconvert_exporter": "python",
   "pygments_lexer": "ipython3",
   "version": "3.8.11"
  }
 },
 "nbformat": 4,
 "nbformat_minor": 5
}
