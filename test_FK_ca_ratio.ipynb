{
 "cells": [
  {
   "cell_type": "code",
   "execution_count": 1,
   "id": "80459df0",
   "metadata": {},
   "outputs": [],
   "source": [
    "from FK import *\n",
    "import os"
   ]
  },
  {
   "cell_type": "code",
   "execution_count": 2,
   "id": "d470bd5b",
   "metadata": {},
   "outputs": [
    {
     "name": "stdout",
     "output_type": "stream",
     "text": [
      "0.8229688039982862\n",
      "0.8867199085333648\n",
      "0.9137658316694586\n",
      "0.9581984196787557\n",
      "0.9871761944674279\n",
      "0.9949036010777403\n",
      "1.0084265626457873\n",
      "1.029676930824147\n",
      "1.0335406341293032\n"
     ]
    }
   ],
   "source": [
    "n_x = 20\n",
    "n_y = 20\n",
    "n_layers = 40\n",
    "\n",
    "r_ca = [0.426,0.459,0.473,0.496,0.511,0.515,0.522,0.533,0.535]\n",
    "# r_ca = [0.426,0.511,0.535]\n",
    "\n",
    "for i_r, r in enumerate(r_ca):\n",
    "    e_SQ = np.array([[np.cos(x),np.sin(x)] for x in [0,np.pi/2]])\n",
    "    e_TR = np.array([[np.cos(x),np.sin(x)] for x in [0,np.pi/3]])\n",
    "    \n",
    "    l_c = 1*np.sqrt((1+np.sqrt(3)/2)**2+0.5**2)*r\n",
    "    print(l_c)\n",
    "    \n",
    "    c_layer_FK = c_FK(n_x,n_y,Ratio_ca=1/r)\n",
    "    c_rod = stack_coords([shift_coords(c_layer_FK, np.array([0,0,l_c])*s) for s in range(n_layers)])\n",
    "\n",
    "    l = np.sqrt((1+np.sqrt(3)/2)**2+0.5**2)\n",
    "    bounds = np.array([[0,n_x*l],[0,n_y*l],[0,n_layers*l_c]])\n",
    "    \n",
    "    export_path = './trajectory/c_FK_{:0.3f}/'.format(r)\n",
    "    if not os.path.isdir(export_path):\n",
    "        os.mkdir(export_path)\n",
    "    filename_c_FK = export_path+'dump.000000000.txt'\n",
    "    filename_c_FK_dump = export_path+'c_FK.dump'\n",
    "    Create_dump(c_rod,filename_c_FK,boundary=bounds)\n",
    "#     Create_dump(c_rod,filename_c_FK_dump,boundary=bounds)\n",
    "#     Create_dump(c_rod,'c_FK.dump',boundary=bounds)\n",
    "    \n",
    "    export_path = './trajectory/c_FK_fluc_{:0.3f}/'.format(r)\n",
    "    if not os.path.isdir(export_path):\n",
    "        os.mkdir(export_path)\n",
    "    d_fluc=0.25\n",
    "    c_rod_fluc = [c_rod[clr]+np.random.normal(0.0,d_fluc,size=[c_rod[clr].shape[0],c_rod[clr].shape[1]])*d_fluc \n",
    "                  for clr in range(3)]\n",
    "    filename_c_FK = export_path+'dump.000000000.txt'\n",
    "    Create_dump(c_rod_fluc,filename_c_FK,boundary=bounds)"
   ]
  },
  {
   "cell_type": "code",
   "execution_count": null,
   "id": "c537afc9",
   "metadata": {},
   "outputs": [],
   "source": []
  }
 ],
 "metadata": {
  "kernelspec": {
   "display_name": "Python 3",
   "language": "python",
   "name": "python3"
  },
  "language_info": {
   "codemirror_mode": {
    "name": "ipython",
    "version": 3
   },
   "file_extension": ".py",
   "mimetype": "text/x-python",
   "name": "python",
   "nbconvert_exporter": "python",
   "pygments_lexer": "ipython3",
   "version": "3.8.11"
  }
 },
 "nbformat": 4,
 "nbformat_minor": 5
}
